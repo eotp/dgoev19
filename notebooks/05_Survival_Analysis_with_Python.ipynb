{
 "cells": [
  {
   "cell_type": "markdown",
   "metadata": {},
   "source": [
    "https://github.com/sebp/scikit-survival/blob/master/examples/00-introduction.ipynb"
   ]
  },
  {
   "cell_type": "markdown",
   "metadata": {},
   "source": [
    "# Introduction to Survival Analysis with scikit-survival"
   ]
  },
  {
   "cell_type": "markdown",
   "metadata": {},
   "source": [
    "**scikit-survival** is a Python module for [survival analysis](https://en.wikipedia.org/wiki/Survival_analysis) built on top of [scikit-learn](http://scikit-learn.org/). It allows doing survival analysis while utilizing the power of scikit-learn, e.g., for pre-processing or doing cross-validation.\n"
   ]
  },
  {
   "cell_type": "markdown",
   "metadata": {},
   "source": [
    "## What is Survival Analysis?\n",
    "\n",
    "The objective in survival analysis — also referred to as reliability analysis in engineering — is to establish a connection between covariates and the time of an event. The name *survival analysis* originates from clinical research, where predicting the time to death, i.e., survival, is often the main objective. Survival analysis is a type of regression problem (one wants to predict a continuous value), but with a twist. It differs from traditional regression by the fact that parts of the training data can only be partially observed – they are *censored*.\n",
    "\n",
    "As an example, consider a clinical study, which investigates coronary heart disease and has been carried out over a 1 year period as in the figure below.\n",
    "\n",
    "![image censoring](https://k-d-w.org/clipboard/censoring.png)\n",
    "\n",
    "Patient A was lost to follow-up after three months with no recorded cardiovascular event, patient B experienced an event four and a half months after enrollment, patient D withdrew from the study two months after enrollment, and patient E did not experience any event before the study ended. Consequently, the exact time of a cardiovascular event could only be recorded for patients B and C; their records are *uncensored*. For the remaining patients it is unknown whether they did or did not experience an event after termination of the study. The only valid information that is available for patients A, D, and E is that they were event-free up to their last follow-up. Therefore, their records are *censored*.\n",
    "\n",
    "Formally, each patient record consists of a set of covariates $x \\in \\mathbb{R}^d$ , and the time $t>0$ when an event occurred or the time $c>0$ of censoring. Since censoring and experiencing and event are mutually exclusive, it is common to define an event indicator $\\delta \\in \\{0;1\\}$ and the observable survival time $y>0$. The observable time $y$ of a right censored sample is defined as\n",
    "\n",
    "$$\n",
    "y = \\min(t, c) = \n",
    "\\begin{cases} \n",
    "t & \\text{if } \\delta = 1 , \\\\ \n",
    "c & \\text{if } \\delta = 0 .\n",
    "\\end{cases}\n",
    "$$\n",
    "\n",
    "Consequently, survival analysis demands for models that take this unique characteristic of such a dataset into account, some of which are showcased below."
   ]
  },
  {
   "cell_type": "markdown",
   "metadata": {},
   "source": [
    "## The Veterans' Administration Lung Cancer Trial\n",
    "\n",
    "The Veterans' Administration Lung Cancer Trial is a randomized trial of two treatment regimens for lung cancer. The [data set](http://lib.stat.cmu.edu/datasets/veteran) (Kalbfleisch J. and Prentice R, (1980) The Statistical Analysis of Failure Time Data. New York: Wiley) consists of 137 patients and 8 variables, which are discribed below:\n",
    "\n",
    "- `Treatment`: denotes the type of lung cancer treatment; `standard` and `test` drug.\n",
    "- `Celltype`: denotes the type of cell involved; `squamous`, `small cell`, `adeno`, `large`.\n",
    "- `Karnofsky_score`: is the Karnofsky score.\n",
    "- `Diag`: is the time since diagnosis in months.\n",
    "- `Age`: is the age in years.\n",
    "- `Prior_Therapy`: denotes any prior therapy; `none` or `yes`.\n",
    "- `Status`: denotes the status of the patient as dead or alive; `dead` or `alive`.\n",
    "- `Survival_in_days`: is the survival time in days since the treatment.\n",
    "\n",
    "Our primary interest is studying whether there a subgroups that differ in survival and whether we can predict survival times."
   ]
  },
  {
   "cell_type": "markdown",
   "metadata": {},
   "source": [
    "## Survival Data\n",
    "\n",
    "As described in the section *What is Survival Analysis?* above, survival times are subject to right-censoring, therefore, we need to consider an individual's status in addition to survival time. To be fully compatible with scikit-learn, `Status` and `Survival_in_days` need to be stored as a [structured array](https://docs.scipy.org/doc/numpy/user/basics.rec.html) with the first field indicating whether the actual survival time was observed or if was censored, and the second field denoting the observerd survival time, which corresponds to the time of death (if `Status == 'dead'`, $\\delta = 1$) or the last time that person was contacted (if `Status == 'alive'`, $\\delta = 0$)."
   ]
  },
  {
   "cell_type": "code",
   "execution_count": 2,
   "metadata": {},
   "outputs": [
    {
     "data": {
      "text/plain": [
       "array([( True,  72.), ( True, 411.), ( True, 228.), ( True, 126.),\n",
       "       ( True, 118.), ( True,  10.), ( True,  82.), ( True, 110.),\n",
       "       ( True, 314.), (False, 100.), ( True,  42.), ( True,   8.),\n",
       "       ( True, 144.), (False,  25.), ( True,  11.), ( True,  30.),\n",
       "       ( True, 384.), ( True,   4.), ( True,  54.), ( True,  13.),\n",
       "       (False, 123.), (False,  97.), ( True, 153.), ( True,  59.),\n",
       "       ( True, 117.), ( True,  16.), ( True, 151.), ( True,  22.),\n",
       "       ( True,  56.), ( True,  21.), ( True,  18.), ( True, 139.),\n",
       "       ( True,  20.), ( True,  31.), ( True,  52.), ( True, 287.),\n",
       "       ( True,  18.), ( True,  51.), ( True, 122.), ( True,  27.),\n",
       "       ( True,  54.), ( True,   7.), ( True,  63.), ( True, 392.),\n",
       "       ( True,  10.), ( True,   8.), ( True,  92.), ( True,  35.),\n",
       "       ( True, 117.), ( True, 132.), ( True,  12.), ( True, 162.),\n",
       "       ( True,   3.), ( True,  95.), ( True, 177.), ( True, 162.),\n",
       "       ( True, 216.), ( True, 553.), ( True, 278.), ( True,  12.),\n",
       "       ( True, 260.), ( True, 200.), ( True, 156.), (False, 182.),\n",
       "       ( True, 143.), ( True, 105.), ( True, 103.), ( True, 250.),\n",
       "       ( True, 100.), ( True, 999.), ( True, 112.), (False,  87.),\n",
       "       (False, 231.), ( True, 242.), ( True, 991.), ( True, 111.),\n",
       "       ( True,   1.), ( True, 587.), ( True, 389.), ( True,  33.),\n",
       "       ( True,  25.), ( True, 357.), ( True, 467.), ( True, 201.),\n",
       "       ( True,   1.), ( True,  30.), ( True,  44.), ( True, 283.),\n",
       "       ( True,  15.), ( True,  25.), (False, 103.), ( True,  21.),\n",
       "       ( True,  13.), ( True,  87.), ( True,   2.), ( True,  20.),\n",
       "       ( True,   7.), ( True,  24.), ( True,  99.), ( True,   8.),\n",
       "       ( True,  99.), ( True,  61.), ( True,  25.), ( True,  95.),\n",
       "       ( True,  80.), ( True,  51.), ( True,  29.), ( True,  24.),\n",
       "       ( True,  18.), (False,  83.), ( True,  31.), ( True,  51.),\n",
       "       ( True,  90.), ( True,  52.), ( True,  73.), ( True,   8.),\n",
       "       ( True,  36.), ( True,  48.), ( True,   7.), ( True, 140.),\n",
       "       ( True, 186.), ( True,  84.), ( True,  19.), ( True,  45.),\n",
       "       ( True,  80.), ( True,  52.), ( True, 164.), ( True,  19.),\n",
       "       ( True,  53.), ( True,  15.), ( True,  43.), ( True, 340.),\n",
       "       ( True, 133.), ( True, 111.), ( True, 231.), ( True, 378.),\n",
       "       ( True,  49.)],\n",
       "      dtype=[('Status', '?'), ('Survival_in_days', '<f8')])"
      ]
     },
     "execution_count": 2,
     "metadata": {},
     "output_type": "execute_result"
    }
   ],
   "source": [
    "from sksurv.datasets import load_veterans_lung_cancer\n",
    "\n",
    "data_x, data_y = load_veterans_lung_cancer()\n",
    "data_y"
   ]
  },
  {
   "cell_type": "markdown",
   "metadata": {},
   "source": [
    "We can easily see that only a small number of survival times are right-censored (`Status` is `False`), i.e., most veteran's died during the study period (`Status` is `True`)."
   ]
  },
  {
   "cell_type": "markdown",
   "metadata": {},
   "source": [
    "## The Survival Function\n",
    "\n",
    "A key quantity in survival analysis is the so-called survival function, which relates time to the probability of surviving beyond a given time point.\n",
    "\n",
    "> Let $T$ denote a continuous non-negative random variable corresponding to a patient’s survival time. The survival function $S(t)$ returns the probability of survival beyond time $t$ and is defined as\n",
    "> $$ S(t) = P (T > t). $$\n",
    "\n",
    "If we observed the exact survival time of all subjects, i.e., everyone died before the study ended, the survival function at time $t$ can simply be estimated by the ratio of patients surviving beyond time $t$ and the total number of patients:\n",
    "\n",
    "$$\n",
    "\\hat{S}(t) = \\frac{ \\text{number of patients surviving beyond $t$} }{ \\text{total number of patients} }\n",
    "$$\n",
    "\n",
    "In the presence of censoring, this estimator cannot be used, because the numerator is not always defined. For instance, consider the following set of patients:"
   ]
  },
  {
   "cell_type": "code",
   "execution_count": 3,
   "metadata": {},
   "outputs": [
    {
     "data": {
      "text/html": [
       "<div>\n",
       "<style scoped>\n",
       "    .dataframe tbody tr th:only-of-type {\n",
       "        vertical-align: middle;\n",
       "    }\n",
       "\n",
       "    .dataframe tbody tr th {\n",
       "        vertical-align: top;\n",
       "    }\n",
       "\n",
       "    .dataframe thead th {\n",
       "        text-align: right;\n",
       "    }\n",
       "</style>\n",
       "<table border=\"1\" class=\"dataframe\">\n",
       "  <thead>\n",
       "    <tr style=\"text-align: right;\">\n",
       "      <th></th>\n",
       "      <th>Status</th>\n",
       "      <th>Survival_in_days</th>\n",
       "    </tr>\n",
       "  </thead>\n",
       "  <tbody>\n",
       "    <tr>\n",
       "      <th>1</th>\n",
       "      <td>True</td>\n",
       "      <td>8.0</td>\n",
       "    </tr>\n",
       "    <tr>\n",
       "      <th>2</th>\n",
       "      <td>True</td>\n",
       "      <td>10.0</td>\n",
       "    </tr>\n",
       "    <tr>\n",
       "      <th>3</th>\n",
       "      <td>True</td>\n",
       "      <td>20.0</td>\n",
       "    </tr>\n",
       "    <tr>\n",
       "      <th>4</th>\n",
       "      <td>False</td>\n",
       "      <td>25.0</td>\n",
       "    </tr>\n",
       "    <tr>\n",
       "      <th>5</th>\n",
       "      <td>True</td>\n",
       "      <td>59.0</td>\n",
       "    </tr>\n",
       "  </tbody>\n",
       "</table>\n",
       "</div>"
      ],
      "text/plain": [
       "   Status  Survival_in_days\n",
       "1    True               8.0\n",
       "2    True              10.0\n",
       "3    True              20.0\n",
       "4   False              25.0\n",
       "5    True              59.0"
      ]
     },
     "execution_count": 3,
     "metadata": {},
     "output_type": "execute_result"
    }
   ],
   "source": [
    "import pandas as pd\n",
    "\n",
    "pd.DataFrame.from_records(data_y[[11, 5, 32, 13, 23]], index=range(1, 6))"
   ]
  },
  {
   "cell_type": "markdown",
   "metadata": {},
   "source": [
    "Using the formula from above, we can compute $\\hat{S}(t=11) = \\frac{3}{5}$, but not $\\hat{S}(t=30)$, because we don't know whether the 4th patient is still alive at $t = 30$, all we know is that when we last checked at $t = 25$, the patient was still alive.\n",
    "\n",
    "An estimator, similar to the one above, that *is* valid if survival times are right-censored is the [Kaplan-Meier estimator](https://en.wikipedia.org/wiki/Kaplan%E2%80%93Meier_estimator)."
   ]
  },
  {
   "cell_type": "code",
   "execution_count": 4,
   "metadata": {},
   "outputs": [
    {
     "data": {
      "text/plain": [
       "Text(0.5, 0, 'time $t$')"
      ]
     },
     "execution_count": 4,
     "metadata": {},
     "output_type": "execute_result"
    },
    {
     "data": {
      "image/png": "[encoded data removed]",
      "text/plain": [
       "<Figure size 432x288 with 1 Axes>"
      ]
     },
     "metadata": {
      "needs_background": "light"
     },
     "output_type": "display_data"
    }
   ],
   "source": [
    "%matplotlib inline\n",
    "import matplotlib.pyplot as plt\n",
    "from sksurv.nonparametric import kaplan_meier_estimator\n",
    "\n",
    "time, survival_prob = kaplan_meier_estimator(data_y[\"Status\"], data_y[\"Survival_in_days\"])\n",
    "plt.step(time, survival_prob, where=\"post\")\n",
    "plt.ylabel(\"est. probability of survival $\\hat{S}(t)$\")\n",
    "plt.xlabel(\"time $t$\")"
   ]
  },
  {
   "cell_type": "markdown",
   "metadata": {},
   "source": [
    "The estimated curve is a step function, with steps occuring at time points where one or more patients died. From the plot we can see that most patients died in the first 200 days, as indicated by the steep slope of the estimated survival function in the first 200 days."
   ]
  },
  {
   "cell_type": "markdown",
   "metadata": {},
   "source": [
    "## Considering other variables by stratification\n",
    "\n",
    "### Survival functions by treatment\n",
    "\n",
    "Patients enrolled in the Veterans' Administration Lung Cancer Trial were randomized to one of two treatments: `standard` and a new `test` drug. Next, let's have a look at how many patients underwent the standard treatment and how many received the new drug."
   ]
  },
  {
   "cell_type": "code",
   "execution_count": 5,
   "metadata": {},
   "outputs": [
    {
     "data": {
      "text/plain": [
       "standard    69\n",
       "test        68\n",
       "Name: Treatment, dtype: int64"
      ]
     },
     "execution_count": 5,
     "metadata": {},
     "output_type": "execute_result"
    }
   ],
   "source": [
    "data_x[\"Treatment\"].value_counts()"
   ]
  },
  {
   "cell_type": "markdown",
   "metadata": {},
   "source": [
    "Roughly half the patients received the alternative treatment.\n",
    "\n",
    "The obvious questions to ask is:\n",
    "> *Is there any difference in survival between the two treatment groups?*\n",
    "\n",
    "As a first attempt, we can estimate the survival function in both treatment groups separately."
   ]
  },
  {
   "cell_type": "code",
   "execution_count": 6,
   "metadata": {},
   "outputs": [
    {
     "data": {
      "text/plain": [
       "<matplotlib.legend.Legend at 0x1187fd390>"
      ]
     },
     "execution_count": 6,
     "metadata": {},
     "output_type": "execute_result"
    },
    {
     "data": {
      "image/png": "[encoded data removed]",
      "text/plain": [
       "<Figure size 432x288 with 1 Axes>"
      ]
     },
     "metadata": {
      "needs_background": "light"
     },
     "output_type": "display_data"
    }
   ],
   "source": [
    "for treatment_type in (\"standard\", \"test\"):\n",
    "    mask_treat = data_x[\"Treatment\"] == treatment_type\n",
    "    time_treatment, survival_prob_treatment = kaplan_meier_estimator(\n",
    "        data_y[\"Status\"][mask_treat],\n",
    "        data_y[\"Survival_in_days\"][mask_treat])\n",
    "    \n",
    "    plt.step(time_treatment, survival_prob_treatment, where=\"post\",\n",
    "             label=\"Treatment = %s\" % treatment_type)\n",
    "\n",
    "plt.ylabel(\"est. probability of survival $\\hat{S}(t)$\")\n",
    "plt.xlabel(\"time $t$\")\n",
    "plt.legend(loc=\"best\")"
   ]
  },
  {
   "cell_type": "markdown",
   "metadata": {},
   "source": [
    "Unfortunately, the results are inconclusive, because the difference between the two estimated survival functions is too small to confidently argue that the drug affects survival or not.\n",
    "\n",
    "*Sidenote: Visually comparing estimated survival curves in order to assess whether there is a difference in survival between groups is usually not recommended, because it is highly subjective. Statistical tests such as the [log-rank test](https://en.wikipedia.org/wiki/Log-rank_test) are usually more appropriate.*"
   ]
  },
  {
   "cell_type": "markdown",
   "metadata": {},
   "source": [
    "### Survival functions by cell type\n",
    "\n",
    "Next, let's have a look at the cell type, which has been recorded as well, and repeat the analysis from above."
   ]
  },
  {
   "cell_type": "code",
   "execution_count": 7,
   "metadata": {},
   "outputs": [
    {
     "data": {
      "text/plain": [
       "<matplotlib.legend.Legend at 0x1188b45c0>"
      ]
     },
     "execution_count": 7,
     "metadata": {},
     "output_type": "execute_result"
    },
    {
     "data": {
      "image/png": "[encoded data removed]",
      "text/plain": [
       "<Figure size 432x288 with 1 Axes>"
      ]
     },
     "metadata": {
      "needs_background": "light"
     },
     "output_type": "display_data"
    }
   ],
   "source": [
    "for value in data_x[\"Celltype\"].unique():\n",
    "    mask = data_x[\"Celltype\"] == value\n",
    "    time_cell, survival_prob_cell = kaplan_meier_estimator(data_y[\"Status\"][mask],\n",
    "                                                           data_y[\"Survival_in_days\"][mask])\n",
    "    plt.step(time_cell, survival_prob_cell, where=\"post\",\n",
    "             label=\"%s (n = %d)\" % (value, mask.sum()))\n",
    "\n",
    "plt.ylabel(\"est. probability of survival $\\hat{S}(t)$\")\n",
    "plt.xlabel(\"time $t$\")\n",
    "plt.legend(loc=\"best\")"
   ]
  },
  {
   "cell_type": "markdown",
   "metadata": {},
   "source": [
    "In this case, we observe a pronounced difference between two groups. Patients with *squamous* or *large* cells seem to have a better prognosis compared to patients with *small* or *adeno* cells."
   ]
  },
  {
   "cell_type": "markdown",
   "metadata": {},
   "source": [
    "## Multivariate Survival Models\n",
    "\n",
    "In the Kaplan-Meier approach used above, we estimated multiple survival curves by dividing the dataset into smaller sub-groups according to a variable. If we want to consider more than 1 or 2 variables, this approach quickly becomes infeasible, because subgroups will get very small. Instead, we can use a linear model, [Cox's proportional hazard's model](https://en.wikipedia.org/wiki/Proportional_hazards_model), to estimate the impact each variable has on survival.\n",
    "\n",
    "First however, we need to convert the categorical variables in the data set into numeric values."
   ]
  },
  {
   "cell_type": "code",
   "execution_count": 8,
   "metadata": {},
   "outputs": [
    {
     "data": {
      "text/html": [
       "<div>\n",
       "<style scoped>\n",
       "    .dataframe tbody tr th:only-of-type {\n",
       "        vertical-align: middle;\n",
       "    }\n",
       "\n",
       "    .dataframe tbody tr th {\n",
       "        vertical-align: top;\n",
       "    }\n",
       "\n",
       "    .dataframe thead th {\n",
       "        text-align: right;\n",
       "    }\n",
       "</style>\n",
       "<table border=\"1\" class=\"dataframe\">\n",
       "  <thead>\n",
       "    <tr style=\"text-align: right;\">\n",
       "      <th></th>\n",
       "      <th>Age_in_years</th>\n",
       "      <th>Celltype=large</th>\n",
       "      <th>Celltype=smallcell</th>\n",
       "      <th>Celltype=squamous</th>\n",
       "      <th>Karnofsky_score</th>\n",
       "      <th>Months_from_Diagnosis</th>\n",
       "      <th>Prior_therapy=yes</th>\n",
       "      <th>Treatment=test</th>\n",
       "    </tr>\n",
       "  </thead>\n",
       "  <tbody>\n",
       "    <tr>\n",
       "      <th>0</th>\n",
       "      <td>69.0</td>\n",
       "      <td>0.0</td>\n",
       "      <td>0.0</td>\n",
       "      <td>1.0</td>\n",
       "      <td>60.0</td>\n",
       "      <td>7.0</td>\n",
       "      <td>0.0</td>\n",
       "      <td>0.0</td>\n",
       "    </tr>\n",
       "    <tr>\n",
       "      <th>1</th>\n",
       "      <td>64.0</td>\n",
       "      <td>0.0</td>\n",
       "      <td>0.0</td>\n",
       "      <td>1.0</td>\n",
       "      <td>70.0</td>\n",
       "      <td>5.0</td>\n",
       "      <td>1.0</td>\n",
       "      <td>0.0</td>\n",
       "    </tr>\n",
       "    <tr>\n",
       "      <th>2</th>\n",
       "      <td>38.0</td>\n",
       "      <td>0.0</td>\n",
       "      <td>0.0</td>\n",
       "      <td>1.0</td>\n",
       "      <td>60.0</td>\n",
       "      <td>3.0</td>\n",
       "      <td>0.0</td>\n",
       "      <td>0.0</td>\n",
       "    </tr>\n",
       "    <tr>\n",
       "      <th>3</th>\n",
       "      <td>63.0</td>\n",
       "      <td>0.0</td>\n",
       "      <td>0.0</td>\n",
       "      <td>1.0</td>\n",
       "      <td>60.0</td>\n",
       "      <td>9.0</td>\n",
       "      <td>1.0</td>\n",
       "      <td>0.0</td>\n",
       "    </tr>\n",
       "    <tr>\n",
       "      <th>4</th>\n",
       "      <td>65.0</td>\n",
       "      <td>0.0</td>\n",
       "      <td>0.0</td>\n",
       "      <td>1.0</td>\n",
       "      <td>70.0</td>\n",
       "      <td>11.0</td>\n",
       "      <td>1.0</td>\n",
       "      <td>0.0</td>\n",
       "    </tr>\n",
       "  </tbody>\n",
       "</table>\n",
       "</div>"
      ],
      "text/plain": [
       "   Age_in_years  Celltype=large  Celltype=smallcell  Celltype=squamous  \\\n",
       "0          69.0             0.0                 0.0                1.0   \n",
       "1          64.0             0.0                 0.0                1.0   \n",
       "2          38.0             0.0                 0.0                1.0   \n",
       "3          63.0             0.0                 0.0                1.0   \n",
       "4          65.0             0.0                 0.0                1.0   \n",
       "\n",
       "   Karnofsky_score  Months_from_Diagnosis  Prior_therapy=yes  Treatment=test  \n",
       "0             60.0                    7.0                0.0             0.0  \n",
       "1             70.0                    5.0                1.0             0.0  \n",
       "2             60.0                    3.0                0.0             0.0  \n",
       "3             60.0                    9.0                1.0             0.0  \n",
       "4             70.0                   11.0                1.0             0.0  "
      ]
     },
     "execution_count": 8,
     "metadata": {},
     "output_type": "execute_result"
    }
   ],
   "source": [
    "from sksurv.preprocessing import OneHotEncoder\n",
    "\n",
    "data_x_numeric = OneHotEncoder().fit_transform(data_x)\n",
    "data_x_numeric.head()"
   ]
  },
  {
   "cell_type": "markdown",
   "metadata": {},
   "source": [
    "Survival models in **scikit-survival** follow the same rules as estimators in scikit-learn, i.e., they have a `fit` method, which expects a data matrix and a structered array of survival times and binary event indicators."
   ]
  },
  {
   "cell_type": "code",
   "execution_count": 9,
   "metadata": {},
   "outputs": [
    {
     "data": {
      "text/plain": [
       "CoxPHSurvivalAnalysis(alpha=0, n_iter=100, tol=1e-09, verbose=0)"
      ]
     },
     "execution_count": 9,
     "metadata": {},
     "output_type": "execute_result"
    }
   ],
   "source": [
    "from sksurv.linear_model import CoxPHSurvivalAnalysis\n",
    "\n",
    "estimator = CoxPHSurvivalAnalysis()\n",
    "estimator.fit(data_x_numeric, data_y)"
   ]
  },
  {
   "cell_type": "markdown",
   "metadata": {},
   "source": [
    "The result is a vector of coefficients, one for each variable, where each value corresponds to the [log hazard ratio](https://en.wikipedia.org/wiki/Hazard_ratio)."
   ]
  },
  {
   "cell_type": "code",
   "execution_count": 10,
   "metadata": {},
   "outputs": [
    {
     "data": {
      "text/plain": [
       "Age_in_years            -0.008549\n",
       "Celltype=large          -0.788672\n",
       "Celltype=smallcell      -0.331813\n",
       "Celltype=squamous       -1.188299\n",
       "Karnofsky_score         -0.032622\n",
       "Months_from_Diagnosis   -0.000092\n",
       "Prior_therapy=yes        0.072327\n",
       "Treatment=test           0.289936\n",
       "dtype: float64"
      ]
     },
     "execution_count": 10,
     "metadata": {},
     "output_type": "execute_result"
    }
   ],
   "source": [
    "pd.Series(estimator.coef_, index=data_x_numeric.columns)"
   ]
  },
  {
   "cell_type": "markdown",
   "metadata": {},
   "source": [
    "Using the fitted model, we can predict a patient-specific survival function, by passing an appropriate data matrix to the estimator's `predict_survival_function` method .\n",
    "\n",
    "First, let's create a set of four synthetic patients."
   ]
  },
  {
   "cell_type": "code",
   "execution_count": 11,
   "metadata": {},
   "outputs": [
    {
     "data": {
      "text/html": [
       "<div>\n",
       "<style scoped>\n",
       "    .dataframe tbody tr th:only-of-type {\n",
       "        vertical-align: middle;\n",
       "    }\n",
       "\n",
       "    .dataframe tbody tr th {\n",
       "        vertical-align: top;\n",
       "    }\n",
       "\n",
       "    .dataframe thead th {\n",
       "        text-align: right;\n",
       "    }\n",
       "</style>\n",
       "<table border=\"1\" class=\"dataframe\">\n",
       "  <thead>\n",
       "    <tr style=\"text-align: right;\">\n",
       "      <th></th>\n",
       "      <th>Age_in_years</th>\n",
       "      <th>Celltype=large</th>\n",
       "      <th>Celltype=smallcell</th>\n",
       "      <th>Celltype=squamous</th>\n",
       "      <th>Karnofsky_score</th>\n",
       "      <th>Months_from_Diagnosis</th>\n",
       "      <th>Prior_therapy=yes</th>\n",
       "      <th>Treatment=test</th>\n",
       "    </tr>\n",
       "  </thead>\n",
       "  <tbody>\n",
       "    <tr>\n",
       "      <th>1</th>\n",
       "      <td>65</td>\n",
       "      <td>0</td>\n",
       "      <td>0</td>\n",
       "      <td>1</td>\n",
       "      <td>60</td>\n",
       "      <td>1</td>\n",
       "      <td>0</td>\n",
       "      <td>1</td>\n",
       "    </tr>\n",
       "    <tr>\n",
       "      <th>2</th>\n",
       "      <td>65</td>\n",
       "      <td>0</td>\n",
       "      <td>0</td>\n",
       "      <td>1</td>\n",
       "      <td>60</td>\n",
       "      <td>1</td>\n",
       "      <td>0</td>\n",
       "      <td>0</td>\n",
       "    </tr>\n",
       "    <tr>\n",
       "      <th>3</th>\n",
       "      <td>65</td>\n",
       "      <td>0</td>\n",
       "      <td>1</td>\n",
       "      <td>0</td>\n",
       "      <td>60</td>\n",
       "      <td>1</td>\n",
       "      <td>0</td>\n",
       "      <td>0</td>\n",
       "    </tr>\n",
       "    <tr>\n",
       "      <th>4</th>\n",
       "      <td>65</td>\n",
       "      <td>0</td>\n",
       "      <td>1</td>\n",
       "      <td>0</td>\n",
       "      <td>60</td>\n",
       "      <td>1</td>\n",
       "      <td>0</td>\n",
       "      <td>1</td>\n",
       "    </tr>\n",
       "  </tbody>\n",
       "</table>\n",
       "</div>"
      ],
      "text/plain": [
       "   Age_in_years  Celltype=large  Celltype=smallcell  Celltype=squamous  \\\n",
       "1            65               0                   0                  1   \n",
       "2            65               0                   0                  1   \n",
       "3            65               0                   1                  0   \n",
       "4            65               0                   1                  0   \n",
       "\n",
       "   Karnofsky_score  Months_from_Diagnosis  Prior_therapy=yes  Treatment=test  \n",
       "1               60                      1                  0               1  \n",
       "2               60                      1                  0               0  \n",
       "3               60                      1                  0               0  \n",
       "4               60                      1                  0               1  "
      ]
     },
     "execution_count": 11,
     "metadata": {},
     "output_type": "execute_result"
    }
   ],
   "source": [
    "x_new = pd.DataFrame.from_dict({\n",
    "    1: [65, 0, 0, 1, 60, 1, 0, 1],\n",
    "    2: [65, 0, 0, 1, 60, 1, 0, 0],\n",
    "    3: [65, 0, 1, 0, 60, 1, 0, 0],\n",
    "    4: [65, 0, 1, 0, 60, 1, 0, 1]},\n",
    "     columns=data_x_numeric.columns, orient='index')\n",
    "x_new"
   ]
  },
  {
   "cell_type": "markdown",
   "metadata": {},
   "source": [
    "Similar to `kaplan_meier_estimator`, the `predict_survival_function` method returns a sequence of step functions, which we can plot."
   ]
  },
  {
   "cell_type": "code",
   "execution_count": 12,
   "metadata": {},
   "outputs": [
    {
     "data": {
      "text/plain": [
       "<matplotlib.legend.Legend at 0x1188615f8>"
      ]
     },
     "execution_count": 12,
     "metadata": {},
     "output_type": "execute_result"
    },
    {
     "data": {
      "image/png": "[encoded data removed]",
      "text/plain": [
       "<Figure size 432x288 with 1 Axes>"
      ]
     },
     "metadata": {
      "needs_background": "light"
     },
     "output_type": "display_data"
    }
   ],
   "source": [
    "pred_surv = estimator.predict_survival_function(x_new)\n",
    "for i, c in enumerate(pred_surv):\n",
    "    plt.step(c.x, c.y, where=\"post\", label=\"Sample %d\" % (i + 1))\n",
    "plt.ylabel(\"est. probability of survival $\\hat{S}(t)$\")\n",
    "plt.xlabel(\"time $t$\")\n",
    "plt.legend(loc=\"best\")"
   ]
  },
  {
   "cell_type": "markdown",
   "metadata": {},
   "source": [
    "## Measuring the Performance of Survival Models\n",
    "\n",
    "Once we fit a survival model, we usually want to assess how well a model can actually predict survival. Our test data is usually subject to censoring too, therefore metrics like root mean squared error or correlation are unsuitable. Instead, we use generalization of the area under the receiver operating characteristic (ROC) curve called [Harrell's concordance index](https://pdfs.semanticscholar.org/7705/392f1068c76669de750c6d0da8144da3304d.pdf) or c-index.\n",
    "\n",
    "The interpretation is identical to the traditional area under the [ROC curve](https://en.wikipedia.org/wiki/Receiver_operating_characteristic) metric for binary classification:\n",
    "- a value of 0.5 denotes a random model,\n",
    "- a value of 1.0 denotes a perfect model,\n",
    "- a value of 0.0 denotes a perfectly wrong model."
   ]
  },
  {
   "cell_type": "code",
   "execution_count": 13,
   "metadata": {},
   "outputs": [
    {
     "data": {
      "text/plain": [
       "0.7362562471603816"
      ]
     },
     "execution_count": 13,
     "metadata": {},
     "output_type": "execute_result"
    }
   ],
   "source": [
    "from sksurv.metrics import concordance_index_censored\n",
    "\n",
    "prediction = estimator.predict(data_x_numeric)\n",
    "result = concordance_index_censored(data_y[\"Status\"], data_y[\"Survival_in_days\"], prediction)\n",
    "result[0]"
   ]
  },
  {
   "cell_type": "markdown",
   "metadata": {},
   "source": [
    "or alternatively"
   ]
  },
  {
   "cell_type": "code",
   "execution_count": 14,
   "metadata": {},
   "outputs": [
    {
     "data": {
      "text/plain": [
       "0.7362562471603816"
      ]
     },
     "execution_count": 14,
     "metadata": {},
     "output_type": "execute_result"
    }
   ],
   "source": [
    "estimator.score(data_x_numeric, data_y)"
   ]
  },
  {
   "cell_type": "markdown",
   "metadata": {},
   "source": [
    "Our model's c-index indicates that the model clearly performs better than random, but is also far from perfect."
   ]
  },
  {
   "cell_type": "markdown",
   "metadata": {},
   "source": [
    "## Feature Selection: Which Variable is Most Predictive?\n",
    "\n",
    "The model above considered all available variables for prediction. Next, we want to investigate which single variable is the best risk predictor. Therefore, we fit a Cox model to each variable individually and record the c-index on the training set."
   ]
  },
  {
   "cell_type": "code",
   "execution_count": 15,
   "metadata": {},
   "outputs": [
    {
     "data": {
      "text/plain": [
       "Karnofsky_score          0.709280\n",
       "Celltype=smallcell       0.572581\n",
       "Celltype=large           0.561620\n",
       "Celltype=squamous        0.550545\n",
       "Treatment=test           0.525386\n",
       "Age_in_years             0.515107\n",
       "Months_from_Diagnosis    0.509030\n",
       "Prior_therapy=yes        0.494434\n",
       "dtype: float64"
      ]
     },
     "execution_count": 15,
     "metadata": {},
     "output_type": "execute_result"
    }
   ],
   "source": [
    "import numpy as np\n",
    "\n",
    "def fit_and_score_features(X, y):\n",
    "    n_features = X.shape[1]\n",
    "    scores = np.empty(n_features)\n",
    "    m = CoxPHSurvivalAnalysis()\n",
    "    for j in range(n_features):\n",
    "        Xj = X[:, j:j+1]\n",
    "        m.fit(Xj, y)\n",
    "        scores[j] = m.score(Xj, y)\n",
    "    return scores\n",
    "\n",
    "scores = fit_and_score_features(data_x_numeric.values, data_y)\n",
    "pd.Series(scores, index=data_x_numeric.columns).sort_values(ascending=False)"
   ]
  },
  {
   "cell_type": "markdown",
   "metadata": {},
   "source": [
    "`Karnofsky_score` is the best variable, whereas `Months_from_Diagnosis` and `Prior_therapy='yes'` have almost no predictive power on their own.\n",
    "\n",
    "Next, we want to build a parsimonious model by excluding irrelevant features. We could use the ranking from above, but would need to determine what the optimal cut-off should be. Luckily, scikit-learn has built-in support for performing grid search.\n",
    "\n",
    "First, we create a pipeline that puts all the parts together."
   ]
  },
  {
   "cell_type": "code",
   "execution_count": 16,
   "metadata": {},
   "outputs": [],
   "source": [
    "from sklearn.feature_selection import SelectKBest\n",
    "from sklearn.pipeline import Pipeline\n",
    "\n",
    "pipe = Pipeline([('encode', OneHotEncoder()),\n",
    "                 ('select', SelectKBest(fit_and_score_features, k=3)),\n",
    "                 ('model', CoxPHSurvivalAnalysis())])"
   ]
  },
  {
   "cell_type": "markdown",
   "metadata": {},
   "source": [
    "Next, we need to define the range of parameters we want to explore during grid search. Here, we want to optimize the parameter `k` of the `SelectKBest` class and allow `k` to vary from 1 feature to all 8 features."
   ]
  },
  {
   "cell_type": "code",
   "execution_count": 17,
   "metadata": {},
   "outputs": [
    {
     "data": {
      "text/html": [
       "<div>\n",
       "<style scoped>\n",
       "    .dataframe tbody tr th:only-of-type {\n",
       "        vertical-align: middle;\n",
       "    }\n",
       "\n",
       "    .dataframe tbody tr th {\n",
       "        vertical-align: top;\n",
       "    }\n",
       "\n",
       "    .dataframe thead th {\n",
       "        text-align: right;\n",
       "    }\n",
       "</style>\n",
       "<table border=\"1\" class=\"dataframe\">\n",
       "  <thead>\n",
       "    <tr style=\"text-align: right;\">\n",
       "      <th></th>\n",
       "      <th>mean_fit_time</th>\n",
       "      <th>std_fit_time</th>\n",
       "      <th>mean_score_time</th>\n",
       "      <th>std_score_time</th>\n",
       "      <th>param_select__k</th>\n",
       "      <th>params</th>\n",
       "      <th>split0_test_score</th>\n",
       "      <th>split1_test_score</th>\n",
       "      <th>split2_test_score</th>\n",
       "      <th>mean_test_score</th>\n",
       "      <th>std_test_score</th>\n",
       "      <th>rank_test_score</th>\n",
       "      <th>split0_train_score</th>\n",
       "      <th>split1_train_score</th>\n",
       "      <th>split2_train_score</th>\n",
       "      <th>mean_train_score</th>\n",
       "      <th>std_train_score</th>\n",
       "    </tr>\n",
       "  </thead>\n",
       "  <tbody>\n",
       "    <tr>\n",
       "      <th>2</th>\n",
       "      <td>0.153413</td>\n",
       "      <td>0.018027</td>\n",
       "      <td>0.007578</td>\n",
       "      <td>0.001345</td>\n",
       "      <td>3</td>\n",
       "      <td>{'select__k': 3}</td>\n",
       "      <td>0.650628</td>\n",
       "      <td>0.718220</td>\n",
       "      <td>0.754649</td>\n",
       "      <td>0.707491</td>\n",
       "      <td>0.043067</td>\n",
       "      <td>1</td>\n",
       "      <td>0.765569</td>\n",
       "      <td>0.695647</td>\n",
       "      <td>0.714082</td>\n",
       "      <td>0.725099</td>\n",
       "      <td>0.029590</td>\n",
       "    </tr>\n",
       "    <tr>\n",
       "      <th>4</th>\n",
       "      <td>0.126011</td>\n",
       "      <td>0.007992</td>\n",
       "      <td>0.006694</td>\n",
       "      <td>0.001352</td>\n",
       "      <td>5</td>\n",
       "      <td>{'select__k': 5}</td>\n",
       "      <td>0.644874</td>\n",
       "      <td>0.738347</td>\n",
       "      <td>0.728822</td>\n",
       "      <td>0.703834</td>\n",
       "      <td>0.042098</td>\n",
       "      <td>2</td>\n",
       "      <td>0.783946</td>\n",
       "      <td>0.698207</td>\n",
       "      <td>0.718498</td>\n",
       "      <td>0.733551</td>\n",
       "      <td>0.036585</td>\n",
       "    </tr>\n",
       "    <tr>\n",
       "      <th>3</th>\n",
       "      <td>0.128984</td>\n",
       "      <td>0.006023</td>\n",
       "      <td>0.008046</td>\n",
       "      <td>0.003279</td>\n",
       "      <td>4</td>\n",
       "      <td>{'select__k': 4}</td>\n",
       "      <td>0.650628</td>\n",
       "      <td>0.719809</td>\n",
       "      <td>0.725723</td>\n",
       "      <td>0.698523</td>\n",
       "      <td>0.034138</td>\n",
       "      <td>3</td>\n",
       "      <td>0.768121</td>\n",
       "      <td>0.691037</td>\n",
       "      <td>0.707327</td>\n",
       "      <td>0.722162</td>\n",
       "      <td>0.033172</td>\n",
       "    </tr>\n",
       "    <tr>\n",
       "      <th>1</th>\n",
       "      <td>0.141242</td>\n",
       "      <td>0.032238</td>\n",
       "      <td>0.006995</td>\n",
       "      <td>0.000927</td>\n",
       "      <td>2</td>\n",
       "      <td>{'select__k': 2}</td>\n",
       "      <td>0.630753</td>\n",
       "      <td>0.717161</td>\n",
       "      <td>0.747934</td>\n",
       "      <td>0.698256</td>\n",
       "      <td>0.049604</td>\n",
       "      <td>4</td>\n",
       "      <td>0.758550</td>\n",
       "      <td>0.683611</td>\n",
       "      <td>0.705638</td>\n",
       "      <td>0.715933</td>\n",
       "      <td>0.031448</td>\n",
       "    </tr>\n",
       "    <tr>\n",
       "      <th>0</th>\n",
       "      <td>0.178012</td>\n",
       "      <td>0.017647</td>\n",
       "      <td>0.007557</td>\n",
       "      <td>0.001201</td>\n",
       "      <td>1</td>\n",
       "      <td>{'select__k': 1}</td>\n",
       "      <td>0.630753</td>\n",
       "      <td>0.715042</td>\n",
       "      <td>0.737087</td>\n",
       "      <td>0.693982</td>\n",
       "      <td>0.045843</td>\n",
       "      <td>5</td>\n",
       "      <td>0.744640</td>\n",
       "      <td>0.676697</td>\n",
       "      <td>0.695246</td>\n",
       "      <td>0.705527</td>\n",
       "      <td>0.028675</td>\n",
       "    </tr>\n",
       "    <tr>\n",
       "      <th>5</th>\n",
       "      <td>0.122760</td>\n",
       "      <td>0.001280</td>\n",
       "      <td>0.007495</td>\n",
       "      <td>0.002234</td>\n",
       "      <td>6</td>\n",
       "      <td>{'select__k': 6}</td>\n",
       "      <td>0.657427</td>\n",
       "      <td>0.669492</td>\n",
       "      <td>0.724690</td>\n",
       "      <td>0.683572</td>\n",
       "      <td>0.029179</td>\n",
       "      <td>6</td>\n",
       "      <td>0.783946</td>\n",
       "      <td>0.698848</td>\n",
       "      <td>0.716160</td>\n",
       "      <td>0.732985</td>\n",
       "      <td>0.036722</td>\n",
       "    </tr>\n",
       "    <tr>\n",
       "      <th>6</th>\n",
       "      <td>0.131021</td>\n",
       "      <td>0.020098</td>\n",
       "      <td>0.007902</td>\n",
       "      <td>0.001874</td>\n",
       "      <td>7</td>\n",
       "      <td>{'select__k': 7}</td>\n",
       "      <td>0.654812</td>\n",
       "      <td>0.659958</td>\n",
       "      <td>0.714876</td>\n",
       "      <td>0.676269</td>\n",
       "      <td>0.027083</td>\n",
       "      <td>7</td>\n",
       "      <td>0.788412</td>\n",
       "      <td>0.695519</td>\n",
       "      <td>0.712133</td>\n",
       "      <td>0.732021</td>\n",
       "      <td>0.040447</td>\n",
       "    </tr>\n",
       "    <tr>\n",
       "      <th>7</th>\n",
       "      <td>0.122729</td>\n",
       "      <td>0.013581</td>\n",
       "      <td>0.007675</td>\n",
       "      <td>0.002706</td>\n",
       "      <td>8</td>\n",
       "      <td>{'select__k': 8}</td>\n",
       "      <td>0.656904</td>\n",
       "      <td>0.653602</td>\n",
       "      <td>0.716942</td>\n",
       "      <td>0.675516</td>\n",
       "      <td>0.029004</td>\n",
       "      <td>8</td>\n",
       "      <td>0.786371</td>\n",
       "      <td>0.695006</td>\n",
       "      <td>0.713692</td>\n",
       "      <td>0.731690</td>\n",
       "      <td>0.039411</td>\n",
       "    </tr>\n",
       "  </tbody>\n",
       "</table>\n",
       "</div>"
      ],
      "text/plain": [
       "   mean_fit_time  std_fit_time  mean_score_time  std_score_time  \\\n",
       "2       0.153413      0.018027         0.007578        0.001345   \n",
       "4       0.126011      0.007992         0.006694        0.001352   \n",
       "3       0.128984      0.006023         0.008046        0.003279   \n",
       "1       0.141242      0.032238         0.006995        0.000927   \n",
       "0       0.178012      0.017647         0.007557        0.001201   \n",
       "5       0.122760      0.001280         0.007495        0.002234   \n",
       "6       0.131021      0.020098         0.007902        0.001874   \n",
       "7       0.122729      0.013581         0.007675        0.002706   \n",
       "\n",
       "  param_select__k            params  split0_test_score  split1_test_score  \\\n",
       "2               3  {'select__k': 3}           0.650628           0.718220   \n",
       "4               5  {'select__k': 5}           0.644874           0.738347   \n",
       "3               4  {'select__k': 4}           0.650628           0.719809   \n",
       "1               2  {'select__k': 2}           0.630753           0.717161   \n",
       "0               1  {'select__k': 1}           0.630753           0.715042   \n",
       "5               6  {'select__k': 6}           0.657427           0.669492   \n",
       "6               7  {'select__k': 7}           0.654812           0.659958   \n",
       "7               8  {'select__k': 8}           0.656904           0.653602   \n",
       "\n",
       "   split2_test_score  mean_test_score  std_test_score  rank_test_score  \\\n",
       "2           0.754649         0.707491        0.043067                1   \n",
       "4           0.728822         0.703834        0.042098                2   \n",
       "3           0.725723         0.698523        0.034138                3   \n",
       "1           0.747934         0.698256        0.049604                4   \n",
       "0           0.737087         0.693982        0.045843                5   \n",
       "5           0.724690         0.683572        0.029179                6   \n",
       "6           0.714876         0.676269        0.027083                7   \n",
       "7           0.716942         0.675516        0.029004                8   \n",
       "\n",
       "   split0_train_score  split1_train_score  split2_train_score  \\\n",
       "2            0.765569            0.695647            0.714082   \n",
       "4            0.783946            0.698207            0.718498   \n",
       "3            0.768121            0.691037            0.707327   \n",
       "1            0.758550            0.683611            0.705638   \n",
       "0            0.744640            0.676697            0.695246   \n",
       "5            0.783946            0.698848            0.716160   \n",
       "6            0.788412            0.695519            0.712133   \n",
       "7            0.786371            0.695006            0.713692   \n",
       "\n",
       "   mean_train_score  std_train_score  \n",
       "2          0.725099         0.029590  \n",
       "4          0.733551         0.036585  \n",
       "3          0.722162         0.033172  \n",
       "1          0.715933         0.031448  \n",
       "0          0.705527         0.028675  \n",
       "5          0.732985         0.036722  \n",
       "6          0.732021         0.040447  \n",
       "7          0.731690         0.039411  "
      ]
     },
     "execution_count": 17,
     "metadata": {},
     "output_type": "execute_result"
    }
   ],
   "source": [
    "from sklearn.model_selection import GridSearchCV\n",
    "\n",
    "param_grid = {'select__k': np.arange(1, data_x_numeric.shape[1] + 1)}\n",
    "gcv = GridSearchCV(pipe, param_grid, return_train_score=True, cv=3, iid=True)\n",
    "gcv.fit(data_x, data_y)\n",
    "\n",
    "pd.DataFrame(gcv.cv_results_).sort_values(by='mean_test_score', ascending=False)"
   ]
  },
  {
   "cell_type": "markdown",
   "metadata": {},
   "source": [
    "The results show that it is sufficient to select the 3 most predictive features."
   ]
  },
  {
   "cell_type": "code",
   "execution_count": 18,
   "metadata": {},
   "outputs": [
    {
     "data": {
      "text/plain": [
       "Celltype=large       -0.067277\n",
       "Celltype=smallcell    0.271007\n",
       "Karnofsky_score      -0.031285\n",
       "dtype: float64"
      ]
     },
     "execution_count": 18,
     "metadata": {},
     "output_type": "execute_result"
    }
   ],
   "source": [
    "pipe.set_params(**gcv.best_params_)\n",
    "pipe.fit(data_x, data_y)\n",
    "\n",
    "encoder, transformer, final_estimator = [s[1] for s in pipe.steps]\n",
    "pd.Series(final_estimator.coef_, index=encoder.encoded_columns_[transformer.get_support()])"
   ]
  },
  {
   "cell_type": "markdown",
   "metadata": {},
   "source": [
    "***"
   ]
  }
 ],
 "metadata": {
  "kernelspec": {
   "display_name": "Python 3",
   "language": "python",
   "name": "python3"
  },
  "language_info": {
   "codemirror_mode": {
    "name": "ipython",
    "version": 3
   },
   "file_extension": ".py",
   "mimetype": "text/x-python",
   "name": "python",
   "nbconvert_exporter": "python",
   "pygments_lexer": "ipython3",
   "version": "3.6.7"
  }
 },
 "nbformat": 4,
 "nbformat_minor": 2
}
